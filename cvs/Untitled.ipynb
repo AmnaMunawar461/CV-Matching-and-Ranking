{
 "cells": [
  {
   "cell_type": "code",
   "execution_count": 18,
   "id": "c166936d-1a19-4470-a1ed-5bd435d1a43d",
   "metadata": {},
   "outputs": [
    {
     "name": "stdout",
     "output_type": "stream",
     "text": [
      "{'detail': 'Invalid token.', 'statusCode': 401}\n"
     ]
    }
   ],
   "source": [
    "import requests\n",
    "\n",
    "token = \"REPLACE_TOKEN\"\n",
    "\n",
    "url = \"https://resume-parser.affinda.com/public/api/v1/documents\"\n",
    "\n",
    "headers = {\"Authorization\": f\"Bearer {token}\"}\n",
    "\n",
    "response = requests.get(url, headers=headers)\n",
    "\n",
    "print(response.json())\n"
   ]
  },
  {
   "cell_type": "code",
   "execution_count": 21,
   "id": "fbbc55bb-7934-4ef8-82ef-02654ca901e7",
   "metadata": {},
   "outputs": [
    {
     "data": {
      "text/plain": [
       "{'count': 1,\n",
       " 'next': 'string',\n",
       " 'previous': 'string',\n",
       " 'results': [{'identifier': 'EUglqBoT',\n",
       "   'ready': True,\n",
       "   'readyDt': '2020-12-10T01:43:32.276724Z',\n",
       "   'failed': True,\n",
       "   'user': {'documentCount': 0,\n",
       "    'redactedDocumentCount': 0,\n",
       "    'reformattedResumeCount': 0,\n",
       "    'parsingCredits': 0,\n",
       "    'redactionCredits': 0,\n",
       "    'reformattingCredits': 0},\n",
       "   'fileName': 'file_name.pdf'}]}"
      ]
     },
     "execution_count": 21,
     "metadata": {},
     "output_type": "execute_result"
    }
   ],
   "source": [
    "{\n",
    "  \"count\": 1,\n",
    "  \"next\": \"string\",\n",
    "  \"previous\": \"string\",\n",
    "  \"results\": [\n",
    "    {\n",
    "      \"identifier\": \"EUglqBoT\",\n",
    "      \"ready\": True,\n",
    "      \"readyDt\": \"2020-12-10T01:43:32.276724Z\",\n",
    "      \"failed\": True,\n",
    "      \"user\": {\n",
    "        \"documentCount\": 0,\n",
    "        \"redactedDocumentCount\": 0,\n",
    "        \"reformattedResumeCount\": 0,\n",
    "        \"parsingCredits\": 0,\n",
    "        \"redactionCredits\": 0,\n",
    "        \"reformattingCredits\": 0\n",
    "      },\n",
    "      \"fileName\": \"file_name.pdf\"\n",
    "    }\n",
    "  ]\n",
    "}"
   ]
  },
  {
   "cell_type": "code",
   "execution_count": 24,
   "id": "af0802f3-b6b0-49e3-b73e-679b592f4ac2",
   "metadata": {},
   "outputs": [
    {
     "name": "stdout",
     "output_type": "stream",
     "text": [
      "{'detail': 'Invalid token.', 'statusCode': 401}\n"
     ]
    }
   ],
   "source": [
    "from pathlib import Path\n",
    "\n",
    "import requests\n",
    "\n",
    "FILE_TO_UPLOAD_PATH = Path(\"C:/Users/Home/CV/cvs/1.txt\")\n",
    "\n",
    "url = \"https://resume-parser.affinda.com/public/api/v1/documents/\"\n",
    "\n",
    "token = \"REPLACE_TOKEN\"\n",
    "\n",
    "headers = {\"Authorization\": f\"Bearer {token}\"}\n",
    "\n",
    "with open(FILE_TO_UPLOAD_PATH, \"rb\") as doc_file:\n",
    "    response = requests.post(\n",
    "        url,\n",
    "        data={\"fileName\": FILE_TO_UPLOAD_PATH.name},\n",
    "        files={\"file\": doc_file},\n",
    "        headers=headers,\n",
    "    )\n",
    "\n",
    "print(response.json())\n"
   ]
  },
  {
   "cell_type": "code",
   "execution_count": null,
   "id": "b0454070-7b59-4808-a37b-cc78eccf8a43",
   "metadata": {},
   "outputs": [],
   "source": []
  }
 ],
 "metadata": {
  "kernelspec": {
   "display_name": "Python 3",
   "language": "python",
   "name": "python3"
  },
  "language_info": {
   "codemirror_mode": {
    "name": "ipython",
    "version": 3
   },
   "file_extension": ".py",
   "mimetype": "text/x-python",
   "name": "python",
   "nbconvert_exporter": "python",
   "pygments_lexer": "ipython3",
   "version": "3.8.9"
  }
 },
 "nbformat": 4,
 "nbformat_minor": 5
}
