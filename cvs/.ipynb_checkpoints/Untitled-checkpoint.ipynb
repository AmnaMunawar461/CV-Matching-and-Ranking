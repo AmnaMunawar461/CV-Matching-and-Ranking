{
 "cells": [
  {
   "cell_type": "code",
   "execution_count": 5,
   "id": "e4ba56e4-f7bf-4a4f-a6eb-44223438c3c4",
   "metadata": {},
   "outputs": [],
   "source": [
    "file = 'C:/Users/HOME/CV/cvs/1.txt'\n",
    "f = open(file, \"r\")"
   ]
  },
  {
   "cell_type": "code",
   "execution_count": 9,
   "id": "ca65dad8-dfb6-408b-b9ce-9e0f19c7db9b",
   "metadata": {},
   "outputs": [
    {
     "name": "stdout",
     "output_type": "stream",
     "text": [
      "\n"
     ]
    }
   ],
   "source": [
    "data=f.read()\n",
    "s=data.replace('-','').replace('Page  1','').replace('Page 2','')\n",
    "print(s)"
   ]
  },
  {
   "cell_type": "code",
   "execution_count": null,
   "id": "c166936d-1a19-4470-a1ed-5bd435d1a43d",
   "metadata": {},
   "outputs": [],
   "source": []
  }
 ],
 "metadata": {
  "kernelspec": {
   "display_name": "Python 3",
   "language": "python",
   "name": "python3"
  },
  "language_info": {
   "codemirror_mode": {
    "name": "ipython",
    "version": 3
   },
   "file_extension": ".py",
   "mimetype": "text/x-python",
   "name": "python",
   "nbconvert_exporter": "python",
   "pygments_lexer": "ipython3",
   "version": "3.8.9"
  }
 },
 "nbformat": 4,
 "nbformat_minor": 5
}
